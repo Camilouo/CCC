{
 "cells": [
  {
   "cell_type": "code",
   "execution_count": 70,
   "id": "b2ca2c80",
   "metadata": {},
   "outputs": [
    {
     "name": "stdout",
     "output_type": "stream",
     "text": [
      "Camilo\n",
      "Bienvenido 👋 Camilo\n",
      "Este escrito se divide en dos, un año despues del dia de hoy y 5 años despues, que lo disfrutes! :D\n"
     ]
    }
   ],
   "source": [
    "nombre=(str(input()))\n",
    "print(\"Bienvenido \\N{WAVING HAND SIGN} \" + nombre)\n",
    "print(\"Este escrito se divide en dos, un año despues del dia de hoy y 5 años despues, que lo disfrutes! :D\")"
   ]
  },
  {
   "cell_type": "code",
   "execution_count": 73,
   "id": "50aeeb83",
   "metadata": {
    "scrolled": true
   },
   "outputs": [
    {
     "name": "stdout",
     "output_type": "stream",
     "text": [
      "-------------------------------------------------------------------------------------------------------------------------------\n",
      "                                               Primera Actividad / Programación                                              \n",
      "-------------------------------------------------------------------------------------------------------------------------------\n"
     ]
    }
   ],
   "source": [
    "print(\"\".rjust(127,'-'))\n",
    "print(\"Primera Actividad / Programación\".center(125))\n",
    "print(\"\".rjust(127,'-'))"
   ]
  },
  {
   "cell_type": "markdown",
   "id": "5082e936",
   "metadata": {},
   "source": [
    "## <font color='EE4A27'>**Un año despues**</font>\n",
    "\n",
    "\n",
    "<p style='text-align: justify;'>\n",
    "Hoy 15 de febrero del 2023 tengo clase de 9am, voy tarde y sin desayunar... Pero feliz con lo que he logrado durante este tiempó. 1 año despues de haber sido admitido en el ✨Exterminio✨ conoci muy buenas personas que nutrieron mi experiencia en la carrera que aún despues de un año nadie conoce en la Universidad... \n",
    "\n",
    "Academicamente, me ha ido bien :) Pues mi ''fuerte'' es programación y domino lenguajes como Python y R, apesar de que en Calculo no me vaya muy bien, lo intento y me esfuerzo por mantener un promedio decente, y el necesario para que no me quiten la beca hahahaha, este año he decidido construir una aplicacion capaz de captar datos y hacer predicciones en la gente, es algo basico pero es el comienzo de un proyecto a largo plazo, he pedido ayuda de mis dos mejores amigos de carrera, todos tenemos algo en común, crear una empresa.\n"
   ]
  },
  {
   "cell_type": "markdown",
   "id": "eec36071",
   "metadata": {},
   "source": [
    "## <font color='EE4A27'>**Cinco años despues**</font>\n",
    "\n",
    "<p style='text-align: justify;'>\n",
    "Ya paso un tiempo despues que me gradue, inicio otra etapa en mi vida. Desde que estuve en la universidad pude empezar a construir un emprendimiento empresarial a largo plazo en el cual estan involucrados unos de mis primeros amigos en el Externado,  la universidad me ha brindado todas las herramientas para lanzar este proyecto. Un año despues este proyecto se pudo lanzar al mercado y ha tenido muy buenos resultados, espero seguir nutriendo este proyecto y consolidar la empresa como una de las mejores en cuanto a BigData en latam. \n",
    "<p style='text-align: justify;'>\n",
    "Logre obtener un buen empleo y aun recuerdo que en mi primer semestre de universidad todo mundo decia que no nos debiamos preocupar por conseguir empleo, que siempre habrian ofertas <b>(Ojalá)</b> y así fue, ademas del proyecto empresarial que cree con la ayuda de algunos compañeros de carrera, tambien trabajo con el gobierno recogiendo informacion acerca de las comunidades alejadas de la capital, buscando la mejor manera de intervenir en estas comunidades. Academicamente me gustaria seguir profundizando e irme especializando totalmente en ciberseguridad y privacidad, ya como cientifico de datos tengo un gran reconocimiento y responsabilidad, pero ahora las metas son mas ambiciosas, en pocos meses ire a US a tantear mejor el terreno y lograr aun mas experiencia en el sector, sera un periodo breve y con objetivos claros; \n",
    "\n",
    "* Aprender \n",
    "* Expandir mi proyecto empresarial \n",
    "* Aportar en la industria Colombiana \n",
    "\n",
    "<font color='blue'>Actualmente no deseo casarme y no creo que quiera hacerlo, pero no se descarta la posibilidad.</font>\n",
    "    \n",
    "En esto se resume mi trayecto 5 años despues de ese agotador e interminable primer semestre, agradecido con la vida por esta oportunidad y con el Externado por abrir esta carrera, muy visionarios, tqm externado.\n",
    "    \n",
    "### Gracias\n",
    "\n",
    "    \n",
    "\n",
    "\n"
   ]
  },
  {
   "cell_type": "markdown",
   "id": "636d9f67",
   "metadata": {},
   "source": [
    "\n",
    "\n",
    "\n",
    "<p style='text-align: right;'>\n",
    "<i>\n",
    "\"Lo que con mucho trabajo se adquiere, más se ama\". Aristóteles.\n",
    "</i>\n",
    "</p>"
   ]
  },
  {
   "cell_type": "code",
   "execution_count": 2,
   "id": "878bebe6",
   "metadata": {},
   "outputs": [
    {
     "name": "stdout",
     "output_type": "stream",
     "text": [
      "-------------------------------------------------------------------------------------------------------------------------------\n",
      "                                                             Fin                                                             \n",
      "-------------------------------------------------------------------------------------------------------------------------------\n",
      "Cristian Camilo Avendaño Nieto \n",
      "Ciencia de Datos\n"
     ]
    }
   ],
   "source": [
    "print(\"\".rjust(127,'-'))\n",
    "print(\"Fin\".center(125))\n",
    "print(\"\".rjust(127,'-'))\n",
    "\n",
    "print(\"Cristian Camilo Avendaño Nieto \\nCiencia de Datos\")"
   ]
  },
  {
   "cell_type": "code",
   "execution_count": 75,
   "id": "94fbd774",
   "metadata": {},
   "outputs": [
    {
     "name": "stdout",
     "output_type": "stream",
     "text": [
      "¿A qué hora era la clase de Camilo? Ingresar solo número entero  9\n",
      "!!Exacto a esa hora tenia clase¡¡\n"
     ]
    }
   ],
   "source": [
    "Edad =(int(input(\"¿A qué hora era la clase de Camilo? Ingresar solo número entero  \")))\n",
    "\n",
    "print(\"!!Exacto a esa hora tenia clase¡¡\")\n",
    "      \n",
    "#Queria hacer un codigo el cual hiciera que al ingresar cualquier otro dato distinto de 9, arrojara error pero\n",
    "#creo no se puede hacer sin tener un condicional :("
   ]
  },
  {
   "cell_type": "code",
   "execution_count": 59,
   "id": "03cb3e21",
   "metadata": {},
   "outputs": [
    {
     "name": "stdout",
     "output_type": "stream",
     "text": [
      "¿Cómo se llama la universidad donde estudia Camilo?  Externado\n",
      "¿Externado o Exterminio?\n"
     ]
    }
   ],
   "source": [
    "Edad =(str(input(\"¿Cómo se llama la universidad donde estudia Camilo?  \")))\n",
    "\n",
    "print(\"¿Externado o Exterminio?\")\n"
   ]
  },
  {
   "cell_type": "code",
   "execution_count": null,
   "id": "9b133665",
   "metadata": {},
   "outputs": [],
   "source": []
  },
  {
   "cell_type": "code",
   "execution_count": null,
   "id": "a5d24af2",
   "metadata": {},
   "outputs": [],
   "source": []
  }
 ],
 "metadata": {
  "kernelspec": {
   "display_name": "Python 3 (ipykernel)",
   "language": "python",
   "name": "python3"
  },
  "language_info": {
   "codemirror_mode": {
    "name": "ipython",
    "version": 3
   },
   "file_extension": ".py",
   "mimetype": "text/x-python",
   "name": "python",
   "nbconvert_exporter": "python",
   "pygments_lexer": "ipython3",
   "version": "3.9.7"
  }
 },
 "nbformat": 4,
 "nbformat_minor": 5
}
