{
 "cells": [
  {
   "cell_type": "markdown",
   "id": "85fa63d8",
   "metadata": {},
   "source": [
    "**Cree las siguientes funciones, con su debida documentación:**\n",
    "\n",
    "1. Cree una función que regrese como resultado el nombre de un restaurante y su NIT en una cadena de caracteres, pueden ser ficticios.\n",
    "2. Si en dicho restaurante cada persona consume en promedio , haga una función que permira calcular el valor de la cuenta, en promedio, dado el número de comensales.\n",
    "3. En el total calculado en el punto anterior se incluye el impuesto al consumo, cree una función que le permita conocer el valor que debería pagar sin dicho impuesto el cual asciende al $8\\%$.\n",
    "4. Una función que tenga como argumentos de entrada nombre de una persona y cantidad de comensales, la función debe tener como respuesta un \"recibo\" en el que aparezca el nombre del restaurante, su NIT, el nombre del cliente, el valor de la factura sin impuestos y con impuestos (sug: emplee como base las funciones creadas anteriormente).\n",
    "5. Una función que permita calcular el máximo entre dos números.\n",
    "6. Una función que ordene de menor a mayor tres números.\n",
    "7. Una función que dadas 5 notas de un estudiante, le permitan calcular la definitiva de la materia (nota 1: 10%, nota 2: 20%, nota 3: 30%, nota 4: 15%, nota 5: 25%) junto a un mensaje el cual resuma el desempeño del estudiante en el curso. (*Sug*: utilice los intervalos $0\\leq x<1,\\ 1\\leq x<2,\\ 2\\leq x<3,\\ 3\\leq x<4, 4\\leq x<4.5,\\ 4.5\\leq x\\leq5 $)"
   ]
  },
  {
   "cell_type": "code",
   "execution_count": 1,
   "id": "25036f06",
   "metadata": {},
   "outputs": [],
   "source": [
    "# 1.Cree una función que regrese como resultado el nombre de un restaurante y su NIT \n",
    "# en una cadena de caracteres, pueden ser ficticios.\n",
    "def sitio():\n",
    "    x = \"RESTAURANTE: Papitas Externadistas\"\n",
    "    y = \"NIT :123321\"\n",
    "    print(x)\n",
    "    print(y)"
   ]
  },
  {
   "cell_type": "code",
   "execution_count": 2,
   "id": "5af84a0e",
   "metadata": {},
   "outputs": [
    {
     "name": "stdout",
     "output_type": "stream",
     "text": [
      "RESTAURANTE: Papitas Externadistas\n",
      "NIT :123321\n"
     ]
    }
   ],
   "source": [
    "sitio()"
   ]
  },
  {
   "cell_type": "code",
   "execution_count": 3,
   "id": "90fd6e3f",
   "metadata": {},
   "outputs": [],
   "source": [
    "# 2. Si en dichorestaurante cada persona consume en promedio 50.000$, haga una función\n",
    "# que permita calcular el valor de la cuenta, en promedio, dado el numero de comensales\n",
    "\n",
    "\n",
    "def promedio():\n",
    "    x = int(input(\"Ingrese el numero de comensales: \"))\n",
    "    n = x * 50000\n",
    "    print(\"El valor de la cuenta es\",n,\"$\")\n"
   ]
  },
  {
   "cell_type": "code",
   "execution_count": 4,
   "id": "4e7fd297",
   "metadata": {},
   "outputs": [
    {
     "name": "stdout",
     "output_type": "stream",
     "text": [
      "Ingrese el numero de comensales: 23\n",
      "El valor de la cuenta es 1150000 $\n"
     ]
    }
   ],
   "source": [
    "#Imprimir\n",
    "promedio()"
   ]
  },
  {
   "cell_type": "code",
   "execution_count": 5,
   "id": "7b09c7cc",
   "metadata": {},
   "outputs": [],
   "source": [
    "### 3. En el total calculado en el punto anterior se incluye el impuesto al consumo,\n",
    "# cree una función que le permita conocer el valor que debería pagar \n",
    "# sin dicho impuesto el cual asciende al  8%\n",
    "def impuesto(n):\n",
    "    x = n*100\n",
    "    z = int(x/108)\n",
    "    print(\"Sin el impuesto se pagaria :\",z,\"$\")\n",
    "    "
   ]
  },
  {
   "cell_type": "code",
   "execution_count": 6,
   "id": "71f1fa19",
   "metadata": {},
   "outputs": [
    {
     "name": "stdout",
     "output_type": "stream",
     "text": [
      "Sin el impuesto se pagaria : 92592 $\n"
     ]
    }
   ],
   "source": [
    "impuesto(100000)"
   ]
  },
  {
   "cell_type": "code",
   "execution_count": 7,
   "id": "f1b21d68",
   "metadata": {},
   "outputs": [],
   "source": [
    "# 4. Una función que tenga como argumentos de entrada nombre de una persona y \n",
    "# cantidad de comensales, la función debe tener como respuesta un \"recibo\" en el que aparezca el nombre del \n",
    "# restaurante, su NIT, el nombre del cliente, el valor de la factura sin impuestos y con impuestos \n",
    "# (sug: emplee como base las funciones creadas anteriormente)\n",
    "\n",
    "def Comensales():\n",
    "    restaurante = \"RESTAURANTE: Papitas Externadistas\"\n",
    "    nit = \"NIT :123321\"\n",
    "    nombre = (\"NOMBRE: \"+input())\n",
    "    \n",
    "    x = int(input(\"Ingrese el numero de comensales: \"))\n",
    "    n = x * 50000\n",
    "    p = n*100\n",
    "    z = int(p/108)\n",
    "    \n",
    "    print(\"-------------------------FACTURA-------------------------\")\n",
    "    print(nombre)\n",
    "    print(restaurante)\n",
    "    print(nit)\n",
    "    \n",
    "    \n",
    "    print(\"EL VALOR CON IVA :\",z,\"$\")\n",
    "    print(\"EL VALOR DE LA CUENTA CON IVA ES:\",n,\"$\")\n",
    "    print(\"---------------------------------------------------------\")"
   ]
  },
  {
   "cell_type": "code",
   "execution_count": 8,
   "id": "798d32c3",
   "metadata": {
    "scrolled": true
   },
   "outputs": [
    {
     "name": "stdout",
     "output_type": "stream",
     "text": [
      "Camilo\n",
      "Ingrese el numero de comensales: 23\n",
      "-------------------------FACTURA-------------------------\n",
      "NOMBRE: Camilo\n",
      "RESTAURANTE: Papitas Externadistas\n",
      "NIT :123321\n",
      "EL VALOR CON IVA : 1064814 $\n",
      "EL VALOR DE LA CUENTA CON IVA ES: 1150000 $\n",
      "---------------------------------------------------------\n"
     ]
    }
   ],
   "source": [
    "#Ingrese nombre y numero de comensales\n",
    "Comensales()"
   ]
  },
  {
   "cell_type": "code",
   "execution_count": 10,
   "id": "45413448",
   "metadata": {},
   "outputs": [
    {
     "name": "stdout",
     "output_type": "stream",
     "text": [
      "1).Ingrese un numero: 1\n",
      "2).Ingrese otro numero: 0\n",
      "El primero numero es mayor\n"
     ]
    }
   ],
   "source": [
    "# 5.Una función que permita calcular el máximo entre dos números\n",
    "x = int(input(\"1).Ingrese un numero: \"))\n",
    "y = int(input(\"2).Ingrese otro numero: \"))\n",
    "    \n",
    "def maximo(x,y):\n",
    "    \n",
    "    if x>y:\n",
    "        print(\"El primero numero es mayor\")\n",
    "    elif x<y:\n",
    "        print(\"El segundo numero es mayor \")\n",
    "    else:\n",
    "        print(\"Los numeros son iguales \")\n",
    "    return(x,y)\n",
    "z=maximo(x,y)"
   ]
  },
  {
   "cell_type": "code",
   "execution_count": 11,
   "id": "59e97203",
   "metadata": {},
   "outputs": [
    {
     "name": "stdout",
     "output_type": "stream",
     "text": [
      "--------INGRESE 3 NÚMEROS DIFERENTES--------\n",
      "Ingrese el primer número 2\n",
      "Ingrese el segundo número 656\n",
      "Ingrese el tercer número -3\n",
      "MENOR -> -3 < 2 < 656\n"
     ]
    }
   ],
   "source": [
    "# 6.Una función que ordene de menor a mayor tres números.\n",
    "print(\"--------INGRESE 3 NÚMEROS DIFERENTES--------\")\n",
    "n1 = int(input(\"Ingrese el primer número \"))\n",
    "n2 = int(input(\"Ingrese el segundo número \"))\n",
    "n3 = int(input(\"Ingrese el tercer número \"))\n",
    "\n",
    "def menormayor(n1,n2,n3):\n",
    "    \n",
    "    if n1 < n2 and n2 < n3:\n",
    "        print(\"MENOR ->\",n1,\"<\",n2,\"<\",n3)\n",
    "    elif n2 < n1 and n1 < n3:\n",
    "        print(\"MENOR ->\",n2,\"<\",n1,\"<\",n3)\n",
    "    elif n3 < n1 and n1 < n2:\n",
    "        print(\"MENOR ->\",n3,\"<\",n1,\"<\",n2)\n",
    "    elif n3 < n2 and n2 < n1:\n",
    "        print(\"MENOR ->\",n3,\"<\",n2,\"<\",n1)\n",
    "    elif(n2 < n3 and n3 < n1):\n",
    "        print(\"MENOR ->\",n1,\"<\",n3,\"<\",n2)\n",
    "    elif(n2 < n3 and n3 < n1):\n",
    "        print(\"MENOR ->\",n2,\"<\",n3,\"<\",n1)\n",
    "    else:\n",
    "        print(\"--------LOS NÚMEROS SON IGUALES--------\")\n",
    "        \n",
    "    return(n1,n2,n3)\n",
    "o = menormayor(n1,n2,n3)\n"
   ]
  },
  {
   "cell_type": "code",
   "execution_count": 17,
   "id": "c95bd3fc",
   "metadata": {
    "scrolled": true
   },
   "outputs": [
    {
     "name": "stdout",
     "output_type": "stream",
     "text": [
      "Ingrese la primera nota: 2.3\n",
      "Ingrese la segunda nota: 4.6\n",
      "Ingrese la tercera nota: 3.6\n",
      "Ingrese la cuarta nota: 5\n",
      "Ingrese la quinta nota: 5\n",
      "-------SOBRESALIENTE-------\n",
      "SU NOTA DEFINITIVA ES 4.2\n"
     ]
    }
   ],
   "source": [
    "#7. Una función que dadas 5 notas de un estudiante, le permitan calcular la definitiva de la \n",
    "# materia (nota 1: 10%, nota 2: 20%, nota 3: 30%, nota 4: 15%, nota 5: 25%) \n",
    "# junto a un mensaje el cual resuma el desempeño del estudiante en el curso.\n",
    "nota1 = float(input(\"Ingrese la primera nota: \"))\n",
    "nota2 = float(input(\"Ingrese la segunda nota: \"))\n",
    "nota3 = float(input(\"Ingrese la tercera nota: \"))\n",
    "nota4 = float(input(\"Ingrese la cuarta nota: \"))\n",
    "nota5 = float(input(\"Ingrese la quinta nota: \"))\n",
    "\n",
    "def promediar(promedio):\n",
    "\n",
    "    promedio =((nota1*0.10)+(nota2*0.20)+(nota3*0.30)+(nota4*0.15)+(nota5*0.25))\n",
    "    if promedio>= 4.5:\n",
    "        print(\"-------EXCELENTE-------\")\n",
    "\n",
    "    elif promedio>=4.0:\n",
    "        print(\"-------SOBRESALIENTE-------\")\n",
    "\n",
    "    elif promedio>= 3.0:\n",
    "        print(\"-------ACEPTABLE-------\")\n",
    "\n",
    "    else:\n",
    "        print(\"-------INSUFICIENTE-------\")\n",
    "    \n",
    "        \n",
    "    return(promedio) \n",
    "prom = promediar(promedio)\n",
    "print(\"SU NOTA DEFINITIVA ES \"+\"{0:.1f}\".format(prom))\n",
    "\n",
    "#Utilice el \"{0:.1f}\" para limitar los decimales"
   ]
  },
  {
   "cell_type": "code",
   "execution_count": null,
   "id": "e54daf24",
   "metadata": {},
   "outputs": [],
   "source": []
  }
 ],
 "metadata": {
  "kernelspec": {
   "display_name": "Python 3 (ipykernel)",
   "language": "python",
   "name": "python3"
  },
  "language_info": {
   "codemirror_mode": {
    "name": "ipython",
    "version": 3
   },
   "file_extension": ".py",
   "mimetype": "text/x-python",
   "name": "python",
   "nbconvert_exporter": "python",
   "pygments_lexer": "ipython3",
   "version": "3.9.7"
  }
 },
 "nbformat": 4,
 "nbformat_minor": 5
}
