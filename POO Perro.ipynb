{
 "cells": [
  {
   "cell_type": "markdown",
   "id": "91ac08f0",
   "metadata": {},
   "source": [
    "### __POO__ Clase: Canes\n",
    "__Grupo:__ Camilo Avendaño, Jostin Abril, Aura Leon"
   ]
  },
  {
   "cell_type": "code",
   "execution_count": 382,
   "id": "6fc2cbd0",
   "metadata": {},
   "outputs": [],
   "source": [
    "import random "
   ]
  },
  {
   "cell_type": "code",
   "execution_count": 383,
   "id": "694a8e47",
   "metadata": {},
   "outputs": [
    {
     "name": "stdout",
     "output_type": "stream",
     "text": [
      "DEBE INGRESAR LA INFORMACIÓN EN EL SIGUIENTE ORDEN: \n",
      "  ( nombre , raza , años , sexo , peso )\n"
     ]
    }
   ],
   "source": [
    "class Canes:\n",
    "    \n",
    "    '''Metodo init para crear un objeto de la clase Canes'''\n",
    "    def __init__(self,nombre,raza,años,sexo,tamaño):\n",
    "        self.nombre = nombre\n",
    "        self.raza = raza\n",
    "        self.años = años\n",
    "        self.sexo = sexo\n",
    "        self.tamaño = tamaño\n",
    "    def nombre(self):\n",
    "        return self.nombre\n",
    "    def raza(self):\n",
    "        return self.raza\n",
    "    def años(self):\n",
    "        return self.años\n",
    "    def sexo(self):\n",
    "        return self.sexo\n",
    "    def tamaño(self):\n",
    "        return self.tamaño\n",
    "    \n",
    "    \n",
    "    '''Metodos para modificar la información ya digitada'''\n",
    "    def cambiarnombre(self,nombre):\n",
    "        self.nombre=nombre\n",
    "    def cambiarraza(self,raza):\n",
    "        self.raza=raza\n",
    "    def cambiaraños(self,años):\n",
    "        self.años=años\n",
    "    def cambiarsexo(self,sexo):\n",
    "        self.sexo=sexo\n",
    "    def cambiartamaño(self,tamaño):\n",
    "        self.tamaño=tamaño\n",
    "\n",
    "       \n",
    "    '''Metodos funcionales'''\n",
    "    def correr(self):\n",
    "        M =(list(range(1,100)))\n",
    "        random.choice(M)\n",
    "        print(self.nombre + \" corrio\",random.choice(M),\"Metros\" )\n",
    "        \n",
    "    def saltar(self):\n",
    "        print(self.nombre + \" esta saltando\")\n",
    "        \n",
    "    def dormir(self):\n",
    "        print(self.nombre + \" se durmio\",'\\n',self.nombre+\":Zzz...\")\n",
    "        \n",
    "    '''Metodos de interacción'''\n",
    "    def socializar(self):\n",
    "        interacciones = (\"Jugando\",\"Peleando\")\n",
    "        var=random.choice(interacciones)  \n",
    "        perro1=mascota1\n",
    "        perro2=mascota2\n",
    "        print(perro1.nombre,\"y\",perro2.nombre,\"estan\",var)\n",
    "        \n",
    "        inter=(mascota1,mascota2)\n",
    "        var2=random.choice(inter)\n",
    "        \n",
    "        '''Condicionales de interacciòn'''\n",
    "        if var==\"Peleando\":\n",
    "                print(var2.nombre,\"Mordio mas fuerte y gano la pelea\")\n",
    "        else:\n",
    "            print ('Se hicieron buenos amigos :)')\n",
    "    #fin de la clase\n",
    "    \n",
    "    '''Indicaciones '''\n",
    "print(\"DEBE INGRESAR LA INFORMACIÓN EN EL SIGUIENTE ORDEN:\",\n",
    "      '\\n  ( nombre , raza , años , sexo , peso )')"
   ]
  },
  {
   "cell_type": "code",
   "execution_count": 384,
   "id": "fa2f8512",
   "metadata": {},
   "outputs": [],
   "source": [
    "mascota1=Canes(\"Tolimson\",\"Bulldog\",\"2\",\"Macho\",\"2kg\")\n",
    "mascota2=Canes(\"Margarita\",\"Pinscher\",\"4\",\"Hembra\",\"0.5kg\")"
   ]
  },
  {
   "cell_type": "code",
   "execution_count": 385,
   "id": "bffffc00",
   "metadata": {},
   "outputs": [
    {
     "name": "stdout",
     "output_type": "stream",
     "text": [
      "Tolimson corrio 23 Metros\n",
      "Margarita corrio 46 Metros\n"
     ]
    }
   ],
   "source": [
    "mascota1.correr()\n",
    "mascota2.correr()"
   ]
  },
  {
   "cell_type": "code",
   "execution_count": 386,
   "id": "fdbffcdd",
   "metadata": {},
   "outputs": [
    {
     "name": "stdout",
     "output_type": "stream",
     "text": [
      "Tolimson esta saltando\n",
      "Margarita esta saltando\n"
     ]
    }
   ],
   "source": [
    "mascota1.saltar()\n",
    "mascota2.saltar()"
   ]
  },
  {
   "cell_type": "code",
   "execution_count": 387,
   "id": "dfe398b9",
   "metadata": {},
   "outputs": [
    {
     "name": "stdout",
     "output_type": "stream",
     "text": [
      "Tolimson se durmio \n",
      " Tolimson:Zzz...\n",
      "Margarita se durmio \n",
      " Margarita:Zzz...\n"
     ]
    }
   ],
   "source": [
    "mascota1.dormir()\n",
    "mascota2.dormir()"
   ]
  },
  {
   "cell_type": "code",
   "execution_count": 388,
   "id": "0b4007fb",
   "metadata": {},
   "outputs": [
    {
     "name": "stdout",
     "output_type": "stream",
     "text": [
      "Tolimson y Margarita estan Jugando\n",
      "Se hicieron buenos amigos :)\n"
     ]
    }
   ],
   "source": [
    "mascota2.socializar()"
   ]
  }
 ],
 "metadata": {
  "kernelspec": {
   "display_name": "Python 3 (ipykernel)",
   "language": "python",
   "name": "python3"
  },
  "language_info": {
   "codemirror_mode": {
    "name": "ipython",
    "version": 3
   },
   "file_extension": ".py",
   "mimetype": "text/x-python",
   "name": "python",
   "nbconvert_exporter": "python",
   "pygments_lexer": "ipython3",
   "version": "3.9.7"
  }
 },
 "nbformat": 4,
 "nbformat_minor": 5
}
