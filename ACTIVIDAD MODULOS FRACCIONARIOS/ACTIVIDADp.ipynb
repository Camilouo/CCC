{
 "cells": [
  {
   "cell_type": "markdown",
   "metadata": {},
   "source": [
    "\n",
    "\n",
    "$$\\frac{a}{b}$$ .\n",
    "$$\\frac{c}{d}$$"
   ]
  },
  {
   "cell_type": "code",
   "execution_count": null,
   "metadata": {
    "scrolled": true
   },
   "outputs": [],
   "source": [
    "import ACTIVIDAD as act"
   ]
  },
  {
   "cell_type": "code",
   "execution_count": null,
   "metadata": {
    "scrolled": false
   },
   "outputs": [],
   "source": [
    "act.multiplicacion() #Si se desea cambiar de función, detener primero el kernel."
   ]
  },
  {
   "cell_type": "code",
   "execution_count": null,
   "metadata": {},
   "outputs": [],
   "source": [
    "def mcd(a, b):\n",
    "    \n",
    "    \"\"\"Modulo MCD\"\"\"\n",
    "    \n",
    "    resto = 0\n",
    "    while(b > 0):\n",
    "        resto = b\n",
    "        b = a % b\n",
    "        a = resto\n",
    "    return a\n",
    "\n",
    "def fracc(a, b):\n",
    "    \n",
    "    \"\"\"Modulo conversión a FRACCIONARIO\"\"\"\n",
    "    \n",
    "    num= int(a/mcd(a,b))\n",
    "    den= int(b/mcd(a,b))\n",
    "    \n",
    "    if a==1:\n",
    "        return b\n",
    "    \n",
    "    \n",
    "    return str(num)+\"/\"+str(den)"
   ]
  },
  {
   "cell_type": "code",
   "execution_count": null,
   "metadata": {},
   "outputs": [],
   "source": [
    "fracc(1,1)"
   ]
  },
  {
   "cell_type": "code",
   "execution_count": null,
   "metadata": {},
   "outputs": [],
   "source": [
    "                                                   \n",
    "def suma():\n",
    "    \n",
    "    \"\"\"Modulo SUMA fracciónarios\"\"\"\n",
    "    \n",
    "    n1=int(input(\"Ingrese numerador a: \"))\n",
    "    n2=int(input(\"Ingrese numerador c: \")) \n",
    "    d1=int(input(\"Ingrese denominador b: \")) \n",
    "    d2=int(input(\"Ingrese denominador d: \")) \n",
    "    mult = n1*d2\n",
    "    mult2 = n2*d1\n",
    "    mult3 = d1*d2\n",
    "    print(mult + mult2,'/',mult3)\n",
    "    \n",
    "suma()"
   ]
  },
  {
   "cell_type": "code",
   "execution_count": null,
   "metadata": {},
   "outputs": [],
   "source": [
    "\n",
    "    \n",
    "                                                                \n",
    "def resta():\n",
    "    \n",
    "    \"\"\"Modulo RESTA fracciónarios\"\"\"\n",
    "    \n",
    "    n1=int(input(\"Ingrese numerador a: \"))\n",
    "    n2=int(input(\"Ingrese numerador c: \")) \n",
    "    d1=int(input(\"Ingrese denominador b: \")) \n",
    "    d2=int(input(\"Ingrese denominador d: \")) \n",
    "    \n",
    "    mult = n1*d2\n",
    "    mult2 = n2*d1\n",
    "    mult3 = d1*d2\n",
    "    \n",
    "    print(mult - mult2,'/',mult3)\n",
    "    \n",
    "resta()"
   ]
  },
  {
   "cell_type": "code",
   "execution_count": null,
   "metadata": {},
   "outputs": [],
   "source": [
    "                                                                   \n",
    "def multiplicacion():\n",
    "    \n",
    "    \"\"\"Modulo MULTIPLICACIÓN fracciónarios\"\"\"\n",
    "    \n",
    "    n1=int(input(\"Ingrese numerador a: \"))\n",
    "    n2=int(input(\"Ingrese numerador c: \")) \n",
    "    d1=int(input(\"Ingrese denominador b: \")) \n",
    "    d2=int(input(\"Ingrese denominador d: \")) \n",
    "    \n",
    "    mult = n1*n2\n",
    "    mult2 = d1*d2\n",
    "    \n",
    "    print(mult ,'/',mult2)\n",
    "    \n",
    "multiplicacion()"
   ]
  },
  {
   "cell_type": "code",
   "execution_count": null,
   "metadata": {},
   "outputs": [],
   "source": [
    "                                                                    \n",
    "def division():  \n",
    "    \n",
    "    \"\"\"Modulo DIVISIÓN fracciónarios\"\"\"\n",
    "    \n",
    "    n1=int(input(\"Ingrese numerador a: \"))\n",
    "    n2=int(input(\"Ingrese numerador c: \")) \n",
    "    d1=int(input(\"Ingrese denominador b: \")) \n",
    "    d2=int(input(\"Ingrese denominador d: \")) \n",
    "    \n",
    "    mult = n1*d2\n",
    "    mult3 = d1*d2\n",
    "    print(mult,'/',mult3)\n",
    "    \n",
    "    if d1==0:\n",
    "        return \"No se puede dividir por 0\"\n",
    "    if d2==0:\n",
    "        return \"No se puede dividir por 0\"\n",
    "    \n",
    "division()"
   ]
  }
 ],
 "metadata": {
  "kernelspec": {
   "display_name": "Python 3 (ipykernel)",
   "language": "python",
   "name": "python3"
  },
  "language_info": {
   "codemirror_mode": {
    "name": "ipython",
    "version": 3
   },
   "file_extension": ".py",
   "mimetype": "text/x-python",
   "name": "python",
   "nbconvert_exporter": "python",
   "pygments_lexer": "ipython3",
   "version": "3.9.7"
  }
 },
 "nbformat": 4,
 "nbformat_minor": 4
}
