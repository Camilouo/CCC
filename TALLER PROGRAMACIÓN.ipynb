{
 "cells": [
  {
   "cell_type": "markdown",
   "metadata": {
    "id": "3nYORGYF_6Dh"
   },
   "source": [
    "## Punto 1\n",
    "\n",
    "\n",
    "Elabore un programa que pida números de cuatro cifras e indique si los números son capicúas o no. El programa deberá ir pidiendo números hasta que el usuario introduce ‘-1’ por teclado. El número –1 indicará la finalización de la ejecución del programa\n",
    "\n",
    "**Nota 1:** Un número capicúa es simétrico p.e. 1221 ó 25752  \n",
    "**Nota 2:** Cuando el número no es de cuatro cifras se deberá mostrar un mensaje de error por pantalla y se pedirá otro número menor que 10000. En caso de que el número sea menor de cuatro cifras se completará con ceros a la izquierda.  \n",
    "**Nota 3:** El único número negativo que se aceptará es ‘-1’ que indicará la finalización del programa. Cualquier otro número negativo, se mostrará un mensaje de error.  \n",
    "**Nota 4:** Debe indicar cuando se ingresa un caracter o valor no valido."
   ]
  },
  {
   "cell_type": "code",
   "execution_count": null,
   "metadata": {},
   "outputs": [],
   "source": [
    "    x = input(\"Ponga un número de 4 cifras \")\n",
    "    while x != \"-1\":\n",
    "        while int(x)<0:\n",
    "            print(\"Solamente es valido -1 = (Finalizar programa)\")\n",
    "            break\n",
    "        else:\n",
    "            if len(x)<=3:\n",
    "                print(x.ljust(4,\"0\"))\n",
    "            elif len(x)>4:\n",
    "                print(\"No es valido, digite un número menor a 5 cifras\")\n",
    "            elif len(x)==4:\n",
    "                if x[0]==x[-1] and x[1]==x[-2]:\n",
    "                    print(\"Es un número capicua \")\n",
    "                else:\n",
    "                    print(\"ERROR!! No es un número capicua \")\n",
    "    \n",
    "        x = input(\"Digite nuevamente un número de 4 cifras\")\n",
    "  \n",
    "    print(\"¡¡¡Finalización del programa, vuelva pronto :)!!!\")"
   ]
  },
  {
   "cell_type": "markdown",
   "metadata": {
    "id": "lNuKPyzpeGeI"
   },
   "source": [
    "# Punto 2\n",
    "Escriba un código que le permita hallar los números primos menores a 1000.\n",
    "\n",
    "Recuerde que:\n",
    "  1. Un número primo es aquel que tiene excatamente 2 divisores.\n",
    "  2. Los candidatos para dividir al número $n$ se hallan entre $1$ y $\\sqrt{n}$."
   ]
  },
  {
   "cell_type": "code",
   "execution_count": null,
   "metadata": {
    "scrolled": false
   },
   "outputs": [],
   "source": [
    "while 1: \n",
    "  usuario =int(input(\"Introduce un número entero menor o igual a 1000: \"))\n",
    "\n",
    "  divisor = 2\n",
    "\n",
    "  while usuario>divisor:\n",
    "    if usuario >= 1001:\n",
    "      print(\"ERROR\")\n",
    "      break\n",
    "    if usuario%divisor==0:\n",
    "        print(\"No es primo\")\n",
    "        break\n",
    "    elif usuario%divisor!=0:\n",
    "        divisor=divisor+1\n",
    "\n",
    "  if usuario==divisor:\n",
    "      print(\"Numero primo\")\n",
    "      "
   ]
  }
 ],
 "metadata": {
  "colab": {
   "name": "Programación.ipynb",
   "provenance": []
  },
  "kernelspec": {
   "display_name": "Python 3 (ipykernel)",
   "language": "python",
   "name": "python3"
  },
  "language_info": {
   "codemirror_mode": {
    "name": "ipython",
    "version": 3
   },
   "file_extension": ".py",
   "mimetype": "text/x-python",
   "name": "python",
   "nbconvert_exporter": "python",
   "pygments_lexer": "ipython3",
   "version": "3.9.7"
  }
 },
 "nbformat": 4,
 "nbformat_minor": 1
}
