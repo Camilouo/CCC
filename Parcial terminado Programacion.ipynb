{
 "cells": [
  {
   "cell_type": "markdown",
   "metadata": {},
   "source": [
    "### PROGRAMACIÓN: Parcial 2 - Ciencia de Datos\n",
    "_Cristian Camilo Avendaño Nieto_"
   ]
  },
  {
   "cell_type": "markdown",
   "metadata": {},
   "source": [
    "### Ejercicio 3\n",
    "_Our number system is called base10 because we have ten digits: 0,1,...,9. some cultures, including the Mayans and Celts, used a base 20 system. In one version of this system, the 20 digits are represented by the letter A through T. Here is a table showing a few conversions:_\n",
    "\n",
    "_Write a function called base20 that converts a base 10 number to base 20. It should return the result as a string of base 20 digits. One way to conver is to find the remainder when the number is divided by 20, then divide the number by 20, and repeat the process until the number  is 0. The remainders are the base 20 digits in reverse order, though you have to convert them into their letters equivalents._"
   ]
  },
  {
   "cell_type": "code",
   "execution_count": 38,
   "metadata": {},
   "outputs": [],
   "source": [
    "'''Diccionario de letras disponibles'''\n",
    "Ls = {0:'A',1:'B',2:'C',3:'D',4:'E',5:'F',6:'G',7:'H',8:'I',9:'J',10:'K',11:'L',12:'M',\n",
    "      13:'N',14:'O',15:'P',16:'Q',17:'R',18:'S',19:'T'}\n",
    "\n",
    "Residuos=[]\n",
    "\n",
    "'''Se debe ingresar un numero en base 10'''\n",
    "def base20(b10):\n",
    "    if b10 <= 0:\n",
    "        return \"0\"\n",
    "    \n",
    "    '''Se almacena el resultado'''\n",
    "    binario = \" \"\n",
    "    while b10 > 0:\n",
    "        \n",
    "        '''Operación matemática'''\n",
    "        residuo = int( b10 % 20 )\n",
    "        Residuos.append(residuo)\n",
    "        b10 = int( b10 / 20 )\n",
    "        binario= str( residuo ) + binario\n",
    "        \n",
    "    return binario"
   ]
  },
  {
   "cell_type": "code",
   "execution_count": 39,
   "metadata": {},
   "outputs": [
    {
     "name": "stdout",
     "output_type": "stream",
     "text": [
      "BFA"
     ]
    }
   ],
   "source": [
    "'''Se llama a la funcion y se ingresa el valor, de  manera siguiente\n",
    "    funcion agrupa las letras correspondientes'''\n",
    "\n",
    "base20(500) #Si se cambia el valor, primero ejecutar denuevo el codigo anterior.\n",
    "\n",
    "Residuos.reverse()\n",
    "\n",
    "for i in Residuos:\n",
    "    print(Ls.get(i),end='')"
   ]
  },
  {
   "cell_type": "markdown",
   "metadata": {},
   "source": [
    "### Ejercicio 11\n",
    "_Write a program that gets an integer N > 1 from the user and computes the average of all integers i = 1.....N. The computation should be done ina function that takes N as input parameter. Print the result to the screen with an appropiate text. Run the program with N=5 and confirm that you get the correct answer_"
   ]
  },
  {
   "cell_type": "code",
   "execution_count": 41,
   "metadata": {},
   "outputs": [
    {
     "name": "stdout",
     "output_type": "stream",
     "text": [
      "Digite un número entero mayor que 1 = 5\n",
      "La media de 1 a 5 es igual a : 3.0\n"
     ]
    }
   ],
   "source": [
    "'''Se le pide al usuario ingresar un entero'''\n",
    "Nu = int(input(\"Digite un número entero mayor que 1 = \"))\n",
    "\n",
    "'''Función definida'''\n",
    "def media(Nu):\n",
    "    \n",
    "    '''Operación matemática'''\n",
    "    suma = 0\n",
    "    for contador in range(1, Nu+1):\n",
    "        suma += contador\n",
    "    return suma / Nu\n",
    "\n",
    "'''Se imprime la salida'''\n",
    "percent = media(Nu)\n",
    "print(\"La media de 1 a {} es igual a : {}\".format(Nu,percent))\n"
   ]
  },
  {
   "cell_type": "markdown",
   "metadata": {},
   "source": [
    "### Ejercicio 19\n",
    "_Some measurements yi, i=1,2,…,N (given below), of a quantity y have been collected regularly, once every minute, at times ti=i, i=0,1,…,N. We want to find the value y in between the measurements, e.g., at t=3.2 min. Computing such y values is called interpolation._\n",
    "\n",
    "_Let your program use linear interpolation to compute y between two consecutive measurements:_"
   ]
  },
  {
   "cell_type": "code",
   "execution_count": null,
   "metadata": {},
   "outputs": [],
   "source": [
    "'''Importaciòn de libreria numpy'''\n",
    "\n",
    "from numpy import zeros\n",
    "\n",
    "\n",
    "def interpolacion(y, t):\n",
    "    \n",
    "    \"\"\"Aqui se utiliza la interpolacion lineal para encontrar\n",
    "    el valor Y\"\"\"\n",
    "    i = int(t)\n",
    "    # Formula: y(t) = y_i + d-y / d-t * dt\n",
    "    return y[i] + ((y[i+1] - y[i])/d_t)*(t-i)\n",
    "\n",
    "def buscarY():\n",
    "    \n",
    "    \"\"\"-----Busca Y en T-----\"\"\"\n",
    "    print ('Tiempo t en el intervalo [0,%d]...' % (N))\n",
    "    t = float(input('Ingrese numero deseado que cumpla t > 0: '))\n",
    "    while t >= 0:\n",
    "        print ('y(t) = %g' % (interpolacion(y, t)))\n",
    "        t = float(input('Ingrese otro valor t (pausar: t(v) < 0): '))\n",
    "\n",
    "\n",
    "'''----------Variables----------\n",
    "    N= Numero total de mediciones, \n",
    "    d_t=Diferencia de tiempo entre mediciones'''\n",
    "\n",
    "N = 4           \n",
    "d_t = 1.0    \n",
    "\n",
    "y = zeros(6)\n",
    "y[0] = 4.4; y[1] = 2.0; y[2] = 11.0;\n",
    "y[3] = 21.5; y[4] = 7.5\n",
    "\n",
    "buscarY()"
   ]
  },
  {
   "cell_type": "markdown",
   "metadata": {},
   "source": [
    "### Ejercicio 27"
   ]
  },
  {
   "cell_type": "markdown",
   "metadata": {},
   "source": [
    "_As an egg cooks, the proteins first denature and then coagulate. When the temperature exceeds a critical point, reactions begin and proceed faster as the temperature increases. In the egg white, the proteins start to coagulate for temperatures above 63 C, while in the yolk the proteins start to coagulate for temperatures above 70 C. For a soft boiled egg, the white needs to have been heated long enough to coagulate at a temperature above 63 C, but the yolk should not be heated above 70 C. For a hard boiled egg, the center of the yolk should be allowed to reach 70 C._\n",
    "\n",
    "_The following formula expresses the time t it takes (in seconds) for the center of the yolk to reach the temperature Ty (in Celsius degrees):_\n",
    "\n",
    "t=M2/3cρ1/3Kπ2(4π/3)2/3ln[0.76To−TwTy−Tw]\n",
    "\n",
    "_Here, M, ρ, c, and K are properties of the egg: M is the mass, ρ is the density, c is the specific heat capacity, and K is thermal conductivity. Relevant values are M=47 g for a small egg and M=67 g for a large egg, ρ=1.038 gcm−3, c=3.7 Jg−1K−1, and K=5.4⋅10−3 Wcm−1K−1. Furthermore, Tw is the temperature (in C degrees) of the boiling water, and To is the original temperature (in C degrees) of the egg before being put in the water. Implement the formula in a program, set Tw=100 C and Ty=70 C, and compute t for a large egg taken from the fridge (To=4 C) and from room temperature (To=20 C). \n",
    "\n"
   ]
  },
  {
   "cell_type": "code",
   "execution_count": 33,
   "metadata": {},
   "outputs": [
    {
     "name": "stdout",
     "output_type": "stream",
     "text": [
      "Refrigerador: Se tarda en hervir un huevo pequeño en 3.99 minutos y un huevo grande en 5.05 minutos.\n",
      "Refrigerador: Se tarda cocer un huevo pequeño en 5.22 minutes y el huevo grande en 6.61 minutos.\n",
      "--Temperatura ambiente: Se tarda en hervir un huevo pequeño en 2.92 minutos \\ y un huevo grande en 3.69 minutos.\n",
      "--Temperatura ambiente: Se tarda en cocer un huevo pequeño en 4.15 minutos \\ y un huevo grande en 5.25 minutos.\n"
     ]
    }
   ],
   "source": [
    "''' Import de la libreria math (log,pi)'''\n",
    "\n",
    "from math import log, pi\n",
    "\n",
    "'''Función donde se define la formula'''\n",
    "def egg(Masa, T_0, T_y):\n",
    "    \n",
    "    TempAgua = 373.15\n",
    "    densidad = 1.038 * 1000\n",
    "    cal = 3.7 * 1000  \n",
    "    KTermica = 0.54  \n",
    "    \n",
    "    formula = Masa ** (2.0 / 3) * cal * densidad ** (1.0 / 3) / \\\n",
    "        (KTermica * pi ** 2 * (4 * pi / 3) ** (2.0 / 3)) * \\\n",
    "        log(0.76 * (T_0 - TempAgua) / (T_y - TempAgua))\n",
    "    return formula\n",
    "\n",
    "'''Huevo sacado de la nevera'''\n",
    "T_0 = 277.15\n",
    "T_y = 63 + 273.15\n",
    "Masa = 0.047\n",
    "t_pequeño = egg(Masa, T_0, T_y)\n",
    "Masa = 0.067\n",
    "t_grande = egg(Masa, T_0, T_y)\n",
    "print('Refrigerador: Se tarda en hervir un huevo pequeño en %.2f minutos \\\n",
    "y un huevo grande en %.2f minutos.' % (t_pequeño / 60, t_grande / 60))\n",
    "\n",
    "'''Huevo cocido, nevera'''\n",
    "T_y = 70 + 273.15\n",
    "Masa = 0.047\n",
    "t_pequeño = egg(Masa, T_0, T_y)\n",
    "Masa = 0.067\n",
    "t_grande = egg(Masa, T_0, T_y)\n",
    "print('Refrigerador: Se tarda cocer un huevo pequeño en %.2f minutes \\\n",
    "y el huevo grande en %.2f minutos.' % (t_pequeño / 60, t_grande / 60))\n",
    "\n",
    "'''Temperatura ambiente'''\n",
    "T_0 = 293.15\n",
    "T_y = 63 + 273.15\n",
    "Masa = 0.047\n",
    "t_pequeño = egg(Masa, T_0, T_y)\n",
    "Masa = 0.067\n",
    "t_grande = egg(Masa, T_0, T_y)\n",
    "print('--Temperatura ambiente: Se tarda en hervir un huevo pequeño en %.2f minutos \\ y un huevo grande en %.2f minutos.' % (t_pequeño / 60, t_grande / 60))\n",
    "\n",
    "'''Huevo cocido sacado a temperatura ambiente'''\n",
    "T_y = 70 + 273.15\n",
    "Masa = 0.047\n",
    "t_pequeño = egg(Masa, T_0, T_y)\n",
    "\n",
    "Masa = 0.067\n",
    "t_grande = egg(Masa, T_0, T_y)\n",
    "print('--Temperatura ambiente: Se tarda en cocer un huevo pequeño en %.2f minutos \\ y un huevo grande en %.2f minutos.' % (t_pequeño / 60, t_grande / 60))\n",
    "\n"
   ]
  }
 ],
 "metadata": {
  "kernelspec": {
   "display_name": "Python 3 (ipykernel)",
   "language": "python",
   "name": "python3"
  },
  "language_info": {
   "codemirror_mode": {
    "name": "ipython",
    "version": 3
   },
   "file_extension": ".py",
   "mimetype": "text/x-python",
   "name": "python",
   "nbconvert_exporter": "python",
   "pygments_lexer": "ipython3",
   "version": "3.9.12"
  }
 },
 "nbformat": 4,
 "nbformat_minor": 4
}
