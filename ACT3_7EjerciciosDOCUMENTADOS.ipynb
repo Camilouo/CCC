{
 "cells": [
  {
   "cell_type": "markdown",
   "metadata": {},
   "source": [
    "**Cree las siguientes funciones, con su debida documentación:**\n",
    "\n",
    "1. Cree una función que regrese como resultado el nombre de un restaurante y su NIT en una cadena de caracteres, pueden ser ficticios.\n",
    "2. Si en dicho restaurante cada persona consume en promedio , haga una función que permira calcular el valor de la cuenta, en promedio, dado el número de comensales.\n",
    "3. En el total calculado en el punto anterior se incluye el impuesto al consumo, cree una función que le permita conocer el valor que debería pagar sin dicho impuesto el cual asciende al $8\\%$.\n",
    "4. Una función que tenga como argumentos de entrada nombre de una persona y cantidad de comensales, la función debe tener como respuesta un \"recibo\" en el que aparezca el nombre del restaurante, su NIT, el nombre del cliente, el valor de la factura sin impuestos y con impuestos (sug: emplee como base las funciones creadas anteriormente).\n",
    "5. Una función que permita calcular el máximo entre dos números.\n",
    "6. Una función que ordene de menor a mayor tres números.\n",
    "7. Una función que dadas 5 notas de un estudiante, le permitan calcular la definitiva de la materia (nota 1: 10%, nota 2: 20%, nota 3: 30%, nota 4: 15%, nota 5: 25%) junto a un mensaje el cual resuma el desempeño del estudiante en el curso. (*Sug*: utilice los intervalos $0\\leq x<1,\\ 1\\leq x<2,\\ 2\\leq x<3,\\ 3\\leq x<4, 4\\leq x<4.5,\\ 4.5\\leq x\\leq5 $)"
   ]
  },
  {
   "cell_type": "code",
   "execution_count": 20,
   "metadata": {},
   "outputs": [],
   "source": [
    "# 1.Cree una función que regrese como resultado el nombre de un restaurante y su NIT \n",
    "# en una cadena de caracteres, pueden ser ficticios.\n",
    "def sitio():\n",
    "    \n",
    "    \"\"\"Esta funcion imprime el nombre del restaurante y su NIT, el usuario solo tiene que imprimir la segunda celda\"\"\"\n",
    "    \n",
    "    x = \"RESTAURANTE: Papitas Externadistas\"\n",
    "    y = \"NIT :123321\"\n",
    "    print(x)\n",
    "    print(y)"
   ]
  },
  {
   "cell_type": "code",
   "execution_count": 21,
   "metadata": {},
   "outputs": [
    {
     "name": "stdout",
     "output_type": "stream",
     "text": [
      "RESTAURANTE: Papitas Externadistas\n",
      "NIT :123321\n"
     ]
    }
   ],
   "source": [
    "sitio()"
   ]
  },
  {
   "cell_type": "code",
   "execution_count": 22,
   "metadata": {},
   "outputs": [],
   "source": [
    "# 2. Si en dicho restaurante cada persona consume en promedio 50.000$, haga una función \n",
    "# que permita calcular el valor de la cuenta, en promedio, dado el numero de comensales\n",
    "\n",
    "\n",
    "def promedio():\n",
    "\n",
    "    \"\"\"Esta funcion le indica al usuario ingresar un numero entero 'numero de comensales' el \n",
    "    cual se multiplicara para dar arrojar elpromedio de la cuenta, en la siguiente celda se debe imprimir y \n",
    "    mostrara el resultado\"\"\"\n",
    "    \n",
    "    x = int(input(\"Ingrese el numero de comensales: \"))\n",
    "    n = x * 50000\n",
    "    print(\"El valor de la cuenta es\",n,\"$\")\n",
    "    \n",
    "\n"
   ]
  },
  {
   "cell_type": "code",
   "execution_count": 23,
   "metadata": {},
   "outputs": [
    {
     "name": "stdout",
     "output_type": "stream",
     "text": [
      "Ingrese el numero de comensales: 2\n",
      "El valor de la cuenta es 100000 $\n"
     ]
    }
   ],
   "source": [
    "#Imprimir\n",
    "promedio()"
   ]
  },
  {
   "cell_type": "code",
   "execution_count": 10,
   "metadata": {},
   "outputs": [],
   "source": [
    "### 3. En el total calculado en el punto anterior se incluye el impuesto al consumo,\n",
    "# cree una función que le permita conocer el valor que debería pagar \n",
    "# sin dicho impuesto el cual asciende al  8%\n",
    "def impuesto(n):\n",
    "    \n",
    "    \"\"\"En este codigo se calcula el valor n dado en el promedio anterior, pero, aqui se calcula sin \n",
    "    el impuesto del 8%\"\"\"\n",
    "    \n",
    "    x = n*100\n",
    "    z = int(x/108)\n",
    "    print(\"Sin el impuesto se pagaria :\",z,\"$\")\n",
    "    "
   ]
  },
  {
   "cell_type": "code",
   "execution_count": 11,
   "metadata": {},
   "outputs": [
    {
     "name": "stdout",
     "output_type": "stream",
     "text": [
      "Sin el impuesto se pagaria : 92592 $\n"
     ]
    }
   ],
   "source": [
    "impuesto(100000)"
   ]
  },
  {
   "cell_type": "code",
   "execution_count": 12,
   "metadata": {},
   "outputs": [],
   "source": [
    "# 4. Una función que tenga como argumentos de entrada nombre de una persona y \n",
    "# cantidad de comensales, la función debe tener como respuesta un \"recibo\" en el que aparezca el nombre del \n",
    "# restaurante, su NIT, el nombre del cliente, el valor de la factura sin impuestos y con impuestos \n",
    "# (sug: emplee como base las funciones creadas anteriormente)\n",
    "\n",
    "def Comensales():\n",
    "    \n",
    "    \"\"\"Esta funcion le indica al usuario ingresar su nombre y el n numero de comensales y el codigo generará automaticamente\n",
    "    una factura, la cual agrupa los resultados de los anteriores codigos organizando así la información\"\"\"\n",
    "    \n",
    "    restaurante = \"RESTAURANTE: Papitas Externadistas\"\n",
    "    nit = \"NIT :123321\"\n",
    "    nombre = (\"NOMBRE: \"+input())\n",
    "    \n",
    "    x = int(input(\"Ingrese el numero de comensales: \"))\n",
    "    n = x * 50000\n",
    "    p = n*100\n",
    "    z = int(p/108)\n",
    "    \n",
    "    print(\"-------------------------FACTURA-------------------------\")\n",
    "    print(nombre)\n",
    "    print(restaurante)\n",
    "    print(nit)\n",
    "    \n",
    "    \n",
    "    print(\"EL VALOR CON IVA :\",z,\"$\")\n",
    "    print(\"EL VALOR DE LA CUENTA CON IVA ES:\",n,\"$\")\n",
    "    print(\"---------------------------------------------------------\")"
   ]
  },
  {
   "cell_type": "code",
   "execution_count": 13,
   "metadata": {
    "scrolled": true
   },
   "outputs": [
    {
     "name": "stdout",
     "output_type": "stream",
     "text": [
      "Camilo\n",
      "Ingrese el numero de comensales: 23\n",
      "-------------------------FACTURA-------------------------\n",
      "NOMBRE: Camilo\n",
      "RESTAURANTE: Papitas Externadistas\n",
      "NIT :123321\n",
      "EL VALOR CON IVA : 1064814 $\n",
      "EL VALOR DE LA CUENTA CON IVA ES: 1150000 $\n",
      "---------------------------------------------------------\n"
     ]
    }
   ],
   "source": [
    "#Ingrese nombre y numero de comensales\n",
    "Comensales()"
   ]
  },
  {
   "cell_type": "code",
   "execution_count": 17,
   "metadata": {},
   "outputs": [
    {
     "name": "stdout",
     "output_type": "stream",
     "text": [
      "1).Ingrese un numero: 213213213\n",
      "2).Ingrese otro numero: 213213\n",
      "El primero numero es mayor\n"
     ]
    }
   ],
   "source": [
    "# 5.Una función que permita calcular el máximo entre dos números\n",
    "x = int(input(\"1).Ingrese un numero: \"))\n",
    "y = int(input(\"2).Ingrese otro numero: \"))\n",
    "    \n",
    "def maximo(x,y):\n",
    "    \"\"\"En esta funcion, se le pide al usuario ingresar 2 valores y el codigo arrojara cual es el numero mayor, pero, \n",
    "    si se ingresan numeros iguales, el programa lo determinara como iguales\"\"\"\n",
    "    if x>y:\n",
    "        print(\"El primero numero es mayor\")\n",
    "    elif x<y:\n",
    "        print(\"El segundo numero es mayor \")\n",
    "    else:\n",
    "        print(\"Los numeros son iguales \")\n",
    "    return(x,y)\n",
    "z=maximo(x,y)"
   ]
  },
  {
   "cell_type": "code",
   "execution_count": 18,
   "metadata": {},
   "outputs": [
    {
     "name": "stdout",
     "output_type": "stream",
     "text": [
      "--------INGRESE 3 NÚMEROS DIFERENTES--------\n",
      "Ingrese el primer número 2\n",
      "Ingrese el segundo número 41\n",
      "Ingrese el tercer número -2\n",
      "MENOR -> -2 < 2 < 41\n"
     ]
    }
   ],
   "source": [
    "# 6.Una función que ordene de menor a mayor tres números.\n",
    "print(\"--------INGRESE 3 NÚMEROS DIFERENTES--------\")\n",
    "n1 = int(input(\"Ingrese el primer número \"))\n",
    "n2 = int(input(\"Ingrese el segundo número \"))\n",
    "n3 = int(input(\"Ingrese el tercer número \"))\n",
    "\n",
    "def menormayor(n1,n2,n3):\n",
    "    \n",
    "    \"\"\"En esta funcion se le pide al usuario ingresar 3 números enteros qué no sean iguales, el programa evaluara y los organizara \n",
    "    de menor a mayor, en caso de ingresar 3 numeros iguales el programa lo dira\"\"\"\n",
    "    \n",
    "    if n1 < n2 and n2 < n3:\n",
    "        print(\"MENOR ->\",n1,\"<\",n2,\"<\",n3)\n",
    "    elif n2 < n1 and n1 < n3:\n",
    "        print(\"MENOR ->\",n2,\"<\",n1,\"<\",n3)\n",
    "    elif n3 < n1 and n1 < n2:\n",
    "        print(\"MENOR ->\",n3,\"<\",n1,\"<\",n2)\n",
    "    elif n3 < n2 and n2 < n1:\n",
    "        print(\"MENOR ->\",n3,\"<\",n2,\"<\",n1)\n",
    "    elif(n2 < n3 and n3 < n1):\n",
    "        print(\"MENOR ->\",n1,\"<\",n3,\"<\",n2)\n",
    "    elif(n2 < n3 and n3 < n1):\n",
    "        print(\"MENOR ->\",n2,\"<\",n3,\"<\",n1)\n",
    "    else:\n",
    "        print(\"--------LOS NÚMEROS SON IGUALES--------\")\n",
    "        \n",
    "    return(n1,n2,n3)\n",
    "o = menormayor(n1,n2,n3)\n"
   ]
  },
  {
   "cell_type": "code",
   "execution_count": 19,
   "metadata": {
    "scrolled": true
   },
   "outputs": [
    {
     "name": "stdout",
     "output_type": "stream",
     "text": [
      "Ingrese la primera nota: 2\n",
      "Ingrese la segunda nota: 3.4\n",
      "Ingrese la tercera nota: 4.3\n",
      "Ingrese la cuarta nota: 4.5\n",
      "Ingrese la quinta nota: 2.8\n",
      "-------ACEPTABLE-------\n",
      "SU NOTA DEFINITIVA ES 3.5\n"
     ]
    }
   ],
   "source": [
    "#7. Una función que dadas 5 notas de un estudiante, le permitan calcular la definitiva de la \n",
    "# materia (nota 1: 10%, nota 2: 20%, nota 3: 30%, nota 4: 15%, nota 5: 25%) \n",
    "# junto a un mensaje el cual resuma el desempeño del estudiante en el curso.\n",
    "nota1 = float(input(\"Ingrese la primera nota: \"))\n",
    "nota2 = float(input(\"Ingrese la segunda nota: \"))\n",
    "nota3 = float(input(\"Ingrese la tercera nota: \"))\n",
    "nota4 = float(input(\"Ingrese la cuarta nota: \"))\n",
    "nota5 = float(input(\"Ingrese la quinta nota: \"))\n",
    "\n",
    "def promediar(promedio):\n",
    "    \n",
    "    \"\"\"Esta funcion le pide al usuario 5 números enteros o decimales, para calcular el promedio de la nota definitiva, cada nota\n",
    "    tiene un porcentaje distinto: nota 1 = 10%, nota 2 = 20%, nota 3 = 30%, nota 4 = 15%, nota 5 = 25%. y se dividirá entre 5\n",
    "    arrojando así su nota definitiva y el desempeño academico\"\"\"\n",
    "\n",
    "    promedio =((nota1*0.10)+(nota2*0.20)+(nota3*0.30)+(nota4*0.15)+(nota5*0.25))\n",
    "    if promedio>= 4.5:\n",
    "        print(\"-------EXCELENTE-------\")\n",
    "\n",
    "    elif promedio>=4.0:\n",
    "        print(\"-------SOBRESALIENTE-------\")\n",
    "\n",
    "    elif promedio>= 3.0:\n",
    "        print(\"-------ACEPTABLE-------\")\n",
    "\n",
    "    else:\n",
    "        print(\"-------INSUFICIENTE-------\")\n",
    "    \n",
    "        \n",
    "    return(promedio) \n",
    "prom = promediar(promedio)\n",
    "print(\"SU NOTA DEFINITIVA ES \"+\"{0:.1f}\".format(prom))\n",
    "\n",
    "#Utilice el \"{0:.1f}\" para limitar los decimales"
   ]
  },
  {
   "cell_type": "code",
   "execution_count": null,
   "metadata": {},
   "outputs": [],
   "source": []
  }
 ],
 "metadata": {
  "kernelspec": {
   "display_name": "Python 3",
   "language": "python",
   "name": "python3"
  },
  "language_info": {
   "codemirror_mode": {
    "name": "ipython",
    "version": 3
   },
   "file_extension": ".py",
   "mimetype": "text/x-python",
   "name": "python",
   "nbconvert_exporter": "python",
   "pygments_lexer": "ipython3",
   "version": "3.7.10"
  }
 },
 "nbformat": 4,
 "nbformat_minor": 5
}
